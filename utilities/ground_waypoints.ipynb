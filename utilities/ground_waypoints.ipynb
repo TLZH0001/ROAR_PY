{
 "cells": [
  {
   "cell_type": "code",
   "execution_count": 6,
   "metadata": {},
   "outputs": [],
   "source": [
    "import roar_py_carla\n",
    "import roar_py_interface\n",
    "import carla\n",
    "import numpy as np\n",
    "from typing import List, Tuple\n",
    "import transforms3d as tr3d\n",
    "import copy\n",
    "\n",
    "carla_client = carla.Client('localhost', 2000)\n",
    "carla_client.set_timeout(15.0)\n",
    "roar_py_instance = roar_py_carla.RoarPyCarlaInstance(carla_client)\n",
    "roar_py_world = roar_py_instance.world\n",
    "roar_py_world.set_asynchronous(True)\n",
    "roar_py_world.set_control_steps(0.00, 0.005)"
   ]
  },
  {
   "cell_type": "code",
   "execution_count": 7,
   "metadata": {},
   "outputs": [],
   "source": [
    "# ground waypoints\n",
    "current_waypoints = roar_py_world.maneuverable_waypoints\n",
    "grounded_waypoints : List[roar_py_interface.RoarPyWaypoint] = []\n",
    "\n",
    "for waypoint in current_waypoints:\n",
    "    new_waypoint = copy.deepcopy(waypoint)\n",
    "    new_waypoint.location = roar_py_world.ground_projection(waypoint.location + np.array([0,0,2]), 100.0)\n",
    "    assert new_waypoint.location is not None\n",
    "    grounded_waypoints.append(new_waypoint)"
   ]
  },
  {
   "cell_type": "code",
   "execution_count": 9,
   "metadata": {},
   "outputs": [
    {
     "name": "stdout",
     "output_type": "stream",
     "text": [
      "Fixing angle [ 5.26012107e-05 -1.78813919e-05 -3.13952178e+00] [0.         0.         3.12475681]\n",
      "RoarPyWaypoint(location=array([-2.0628029e+02, -1.0638969e+03, -1.5258789e-07], dtype=float32), roll_pitch_yaw=array([ 5.26012107e-05, -1.78813919e-05, -3.13952178e+00]), lane_width=12.0) RoarPyWaypoint(location=array([ -208.3741, -1063.8259,     0.    ], dtype=float32), roll_pitch_yaw=array([-2.59498365e-03,  4.05311572e-05,  3.09273537e+00]), lane_width=12.0) RoarPyWaypoint(location=array([-2.0419087e+02, -1.0638964e+03,  1.5258789e-07], dtype=float32), roll_pitch_yaw=array([-1.32359080e-03,  1.12056721e-05, -3.13536618e+00]), lane_width=12.0)\n"
     ]
    }
   ],
   "source": [
    "# check rpy\n",
    "def normalize_rad(r):\n",
    "    return np.arctan2(np.sin(r), np.cos(r))\n",
    "\n",
    "final_waypoints : List[roar_py_interface.RoarPyWaypoint] = []\n",
    "for i,ground_waypoint in enumerate(grounded_waypoints):\n",
    "    new_waypoint = copy.deepcopy(ground_waypoint)\n",
    "    next_waypoint, prev_waypoint = grounded_waypoints[(i+1)%len(grounded_waypoints)], grounded_waypoints[(i-1)%len(grounded_waypoints)]\n",
    "    center_yaw = np.arctan2(next_waypoint.location[1] - prev_waypoint.location[1], next_waypoint.location[0] - prev_waypoint.location[0])\n",
    "    center_rot = np.array([0,0,center_yaw])\n",
    "    if np.linalg.norm(ground_waypoint.roll_pitch_yaw - center_rot) > np.pi:\n",
    "        print(\"Fixing angle\", ground_waypoint.roll_pitch_yaw, center_rot)\n",
    "        print(ground_waypoint, next_waypoint, prev_waypoint)\n",
    "        new_waypoint.roll_pitch_yaw = center_rot\n",
    "    final_waypoints.append(new_waypoint)"
   ]
  },
  {
   "cell_type": "code",
   "execution_count": 10,
   "metadata": {},
   "outputs": [],
   "source": [
    "# save\n",
    "\n",
    "np.savez_compressed(\n",
    "    \"Monza.npz\",\n",
    "    **roar_py_interface.RoarPyWaypoint.save_waypoint_list(final_waypoints)\n",
    ")"
   ]
  },
  {
   "cell_type": "code",
   "execution_count": null,
   "metadata": {},
   "outputs": [],
   "source": []
  }
 ],
 "metadata": {
  "kernelspec": {
   "display_name": "Python 3",
   "language": "python",
   "name": "python3"
  },
  "language_info": {
   "codemirror_mode": {
    "name": "ipython",
    "version": 3
   },
   "file_extension": ".py",
   "mimetype": "text/x-python",
   "name": "python",
   "nbconvert_exporter": "python",
   "pygments_lexer": "ipython3",
   "version": "3.8.18"
  }
 },
 "nbformat": 4,
 "nbformat_minor": 2
}
