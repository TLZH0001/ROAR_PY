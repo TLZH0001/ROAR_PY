{
 "cells": [
  {
   "cell_type": "code",
   "execution_count": 1,
   "metadata": {},
   "outputs": [],
   "source": [
    "import roar_py_carla\n",
    "import roar_py_interface\n",
    "import carla\n",
    "import numpy as np\n",
    "from typing import List, Tuple\n",
    "import transforms3d as tr3d\n",
    "\n",
    "carla_client = carla.Client('localhost', 2000)\n",
    "carla_client.set_timeout(15.0)\n",
    "roar_py_instance = roar_py_carla.RoarPyCarlaInstance(carla_client)\n",
    "roar_py_world = roar_py_instance.world\n",
    "roar_py_world.set_asynchronous(True)\n",
    "roar_py_world.set_control_steps(0.00, 0.005)"
   ]
  },
  {
   "cell_type": "code",
   "execution_count": 2,
   "metadata": {},
   "outputs": [
    {
     "name": "stdout",
     "output_type": "stream",
     "text": [
      "2775\n"
     ]
    }
   ],
   "source": [
    "waypoints = roar_py_world.maneuverable_waypoints\n",
    "print(len(waypoints))"
   ]
  },
  {
   "cell_type": "code",
   "execution_count": 4,
   "metadata": {},
   "outputs": [],
   "source": [
    "TARGET_SPAWNPOINT_COUNT = 100\n",
    "spawnpoints : List[roar_py_interface.RoarPyWaypoint] = np.random.choice(waypoints, TARGET_SPAWNPOINT_COUNT, replace=False)"
   ]
  },
  {
   "cell_type": "code",
   "execution_count": 5,
   "metadata": {},
   "outputs": [],
   "source": [
    "\n",
    "def generate_spawn_points(waypoints : List[roar_py_interface.RoarPyWaypoint]) -> Tuple[np.ndarray, np.ndarray]:\n",
    "    spawn_point_locations = []\n",
    "    spawn_rotations = []\n",
    "    for spawn_point in waypoints:\n",
    "        spawn_point_locations.append(spawn_point.location)\n",
    "        spawn_rotations.append(spawn_point.roll_pitch_yaw)\n",
    "    return np.stack(spawn_point_locations, axis=0), np.stack(spawn_rotations, axis=0)"
   ]
  },
  {
   "cell_type": "code",
   "execution_count": 6,
   "metadata": {},
   "outputs": [],
   "source": [
    "spawn_point_locations, spawn_rotations = generate_spawn_points(spawnpoints)\n",
    "np.savez_compressed(\"monza_spawns.npz\", locations=spawn_point_locations, rotations=spawn_rotations)"
   ]
  },
  {
   "cell_type": "code",
   "execution_count": null,
   "metadata": {},
   "outputs": [],
   "source": []
  }
 ],
 "metadata": {
  "kernelspec": {
   "display_name": "Python 3",
   "language": "python",
   "name": "python3"
  },
  "language_info": {
   "codemirror_mode": {
    "name": "ipython",
    "version": 3
   },
   "file_extension": ".py",
   "mimetype": "text/x-python",
   "name": "python",
   "nbconvert_exporter": "python",
   "pygments_lexer": "ipython3",
   "version": "3.8.18"
  },
  "orig_nbformat": 4
 },
 "nbformat": 4,
 "nbformat_minor": 2
}
